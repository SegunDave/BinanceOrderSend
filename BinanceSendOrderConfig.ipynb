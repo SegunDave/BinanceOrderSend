{
  "nbformat": 4,
  "nbformat_minor": 0,
  "metadata": {
    "colab": {
      "name": "BinanceSendOrderConfig",
      "provenance": [],
      "authorship_tag": "ABX9TyNZNPSxcrbmxicwSvrGzcAB",
      "include_colab_link": true
    },
    "kernelspec": {
      "name": "python3",
      "display_name": "Python 3"
    },
    "language_info": {
      "name": "python"
    }
  },
  "cells": [
    {
      "cell_type": "markdown",
      "metadata": {
        "id": "view-in-github",
        "colab_type": "text"
      },
      "source": [
        "<a href=\"https://colab.research.google.com/github/snapdotNG/BinanceOrderSend/blob/main/BinanceSendOrderConfig.ipynb\" target=\"_parent\"><img src=\"https://colab.research.google.com/assets/colab-badge.svg\" alt=\"Open In Colab\"/></a>"
      ]
    },
    {
      "cell_type": "code",
      "metadata": {
        "id": "ZPjFLJhZ_-zI",
        "colab": {
          "base_uri": "https://localhost:8080/"
        },
        "outputId": "11172752-1e76-45a0-ad88-e8eccab45de6"
      },
      "source": [
        "pip -q install ccxt pandas_ta schedule python-binance"
      ],
      "execution_count": 1,
      "outputs": [
        {
          "output_type": "stream",
          "name": "stdout",
          "text": [
            "\u001b[K     |████████████████████████████████| 3.2 MB 5.2 MB/s \n",
            "\u001b[K     |████████████████████████████████| 115 kB 60.0 MB/s \n",
            "\u001b[K     |████████████████████████████████| 65 kB 3.8 MB/s \n",
            "\u001b[K     |████████████████████████████████| 903 kB 32.7 MB/s \n",
            "\u001b[K     |████████████████████████████████| 25.3 MB 1.4 MB/s \n",
            "\u001b[K     |████████████████████████████████| 4.0 MB 39.6 MB/s \n",
            "\u001b[K     |████████████████████████████████| 1.2 MB 50.0 MB/s \n",
            "\u001b[K     |████████████████████████████████| 1.1 MB 47.3 MB/s \n",
            "\u001b[K     |████████████████████████████████| 271 kB 58.4 MB/s \n",
            "\u001b[K     |████████████████████████████████| 94 kB 3.8 MB/s \n",
            "\u001b[K     |████████████████████████████████| 291 kB 54.6 MB/s \n",
            "\u001b[K     |████████████████████████████████| 144 kB 63.4 MB/s \n",
            "\u001b[K     |████████████████████████████████| 45 kB 3.1 MB/s \n",
            "\u001b[K     |████████████████████████████████| 288 kB 61.3 MB/s \n",
            "\u001b[K     |████████████████████████████████| 112 kB 63.1 MB/s \n",
            "\u001b[K     |████████████████████████████████| 9.8 MB 36.5 MB/s \n",
            "\u001b[K     |████████████████████████████████| 749 kB 44.8 MB/s \n",
            "\u001b[?25h  Building wheel for pandas-ta (setup.py) ... \u001b[?25l\u001b[?25hdone\n",
            "\u001b[31mERROR: pip's dependency resolver does not currently take into account all the packages that are installed. This behaviour is the source of the following dependency conflicts.\n",
            "datascience 0.10.6 requires folium==0.2.1, but you have folium 0.8.3 which is incompatible.\u001b[0m\n"
          ]
        }
      ]
    },
    {
      "cell_type": "code",
      "metadata": {
        "id": "_YjeTqAoAGFT"
      },
      "source": [
        "import ccxt,pytz,time,schedule,requests,json\n",
        "import pandas as pd\n",
        "import numpy as np\n",
        "from datetime import datetime, timedelta, date\n",
        "import pandas_ta as ta\n",
        "import plotly.graph_objects as go\n",
        "import plotly.express as px\n",
        "from IPython.display import clear_output\n",
        "import matplotlib.pyplot as plt\n",
        "from binance.client import Client\n",
        "from pprint import pprint\n",
        "\n"
      ],
      "execution_count": null,
      "outputs": []
    },
    {
      "cell_type": "code",
      "metadata": {
        "id": "YaUMcgtgHnKa"
      },
      "source": [
        "API_KEY2 = 'YourKeyHere2'\n",
        "API_SECRET2 = 'YourSecretKeyHere2'\n",
        "API_KEY =\"yourKeyHere\"\n",
        "API_SECRET =\"yourKeySecretHere\"\n",
        "\n",
        "client = Client(API_KEY, API_SECRET)"
      ],
      "execution_count": null,
      "outputs": []
    },
    {
      "cell_type": "code",
      "metadata": {
        "id": "weta8yf5AzPq"
      },
      "source": [
        "#print balance\n",
        "exchangepub = ccxt.binance()\n",
        "\n",
        "exchange_id2 = 'binanceusdm'\n",
        "exchange_id = \"binanceusdm\"\n",
        "exchange_class = getattr(ccxt, exchange_id)\n",
        "exchange = exchange_class({\n",
        "    'apiKey': API_KEY2,\n",
        "    'secret': API_SECRET2,\n",
        "    'timeout': 3333,\n",
        "    'enableRateLimit': True,\n",
        "    'options': {\n",
        "        'defaultType': 'future',  # ←-------------- quotes and 'future'\n",
        "        'createMarketBuyOrderRequiresPrice': True,\n",
        "    },\n",
        "})\n",
        "def balance():\n",
        "  global total,free, used, bal\n",
        "  balance = exchange.fetch_balance()\n",
        "  total = balance['USDT']['total']\n",
        "  free = balance['USDT']['free']\n",
        "  used = balance['USDT']['used']\n",
        "  freeBNB = balance['BNB']['free']\n",
        "  #pprint(balance['USDT'])\n",
        "  #pprint(balance['USDT']['used'])\n",
        "  bal = (f'Balance===> Total: {total} USDT | Available: {free} USDT | In Trade: {used} USDT ========== BNB Balance: {freeBNB} BNB ')\n",
        "  print(bal)\n",
        "balance()\n"
      ],
      "execution_count": null,
      "outputs": []
    },
    {
      "cell_type": "code",
      "source": [
        "# Sending Order\n",
        "symbol = \"PEOPLE/USDT\"\n",
        "def amount():\n",
        "  currentPrice = exchange.fetchTicker(symbol)['close']\n",
        "  sizeUSDT = 30\n",
        "  SizeToken =  sizeUSDT / currentPrice \n",
        "  amount = SizeToken\n",
        "  return amount\n",
        "\n",
        "amounToken = amount()\n",
        "print(f'Current Price: {currentPrice}=========> Amount of Tokens: {amounToken}-{symbol}, tesing here {amount()} ')\n",
        "side = 'buy'\n",
        "orderSend = exchange.createOrder (symbol, 'market', side, amounToken, params={})\n",
        "print(orderSend)\n",
        "balance()\n",
        "#createOrder = exchange.createMarketBuyOrder (symbol, cost)\n",
        "#exchange.createMarketSellOrder (symbol, amount[, params])\n",
        "#createOrder =  exchange.createMarketBuyOrder (symbol, amount[, params])\n",
        "#print(createOrder)\n",
        "amount()"
      ],
      "metadata": {
        "colab": {
          "base_uri": "https://localhost:8080/"
        },
        "id": "WdTKZ1nGMSKP",
        "outputId": "94f1c39a-3858-4fec-be58-dd3bae65537c"
      },
      "execution_count": null,
      "outputs": [
        {
          "output_type": "stream",
          "name": "stdout",
          "text": [
            "Current Price: 0.12682=========> Amount of Tokens: 233.00970873786406-PEOPLE/USDT, tesing here 233.00970873786406 \n",
            "{'info': {'orderId': '42421822', 'symbol': 'PEOPLEUSDT', 'status': 'FILLED', 'clientOrderId': 'x-xcKtGhcu758cdb605b47d6c49847dd', 'price': '0', 'avgPrice': '0.12875', 'origQty': '233', 'executedQty': '233', 'cumQty': '233', 'cumQuote': '29.99875', 'timeInForce': 'GTC', 'type': 'MARKET', 'reduceOnly': False, 'closePosition': False, 'side': 'BUY', 'positionSide': 'BOTH', 'stopPrice': '0', 'workingType': 'CONTRACT_PRICE', 'priceProtect': False, 'origType': 'MARKET', 'updateTime': '1640893788357'}, 'id': '42421822', 'clientOrderId': 'x-xcKtGhcu758cdb605b47d6c49847dd', 'timestamp': None, 'datetime': None, 'lastTradeTimestamp': None, 'symbol': 'PEOPLE/USDT', 'type': 'market', 'timeInForce': 'GTC', 'postOnly': False, 'side': 'buy', 'price': 0.12875, 'stopPrice': None, 'amount': 233.0, 'cost': 29.99875, 'average': 0.12875, 'filled': 233.0, 'remaining': 0.0, 'status': 'closed', 'fee': None, 'trades': [], 'fees': []}\n",
            "Balance===> Total: 199.98621453 USDT | Available: 198.46097778 USDT | In Trade: 1.50114222 USDT ========== BNB Balance: 0.00530412 BNB \n"
          ]
        },
        {
          "output_type": "execute_result",
          "data": {
            "text/plain": [
              "233.00970873786406"
            ]
          },
          "metadata": {},
          "execution_count": 141
        }
      ]
    },
    {
      "cell_type": "code",
      "source": [
        "#Quantity or Size of last opened trade not in USDT\n",
        "openedTrades = exchange.fetchMyTrades(symbol,limit = 1)\n",
        "cryptoSize = openedTrades[0]['amount']\n",
        "cryptoCost = openedTrades[0] ['cost']\n",
        "print(f' cryptoSize: {cryptoSize} and cryptoCost: {cryptoCost}')\n",
        "#pprint((openedTrades))\n"
      ],
      "metadata": {
        "colab": {
          "base_uri": "https://localhost:8080/"
        },
        "id": "-v6g_XJVwdEk",
        "outputId": "a79b80ec-e523-45c2-8df2-6f04674aa2cb"
      },
      "execution_count": null,
      "outputs": [
        {
          "output_type": "stream",
          "name": "stdout",
          "text": [
            " cryptoSize: 233.0 and cryptoCost: 29.99875\n"
          ]
        }
      ]
    },
    {
      "cell_type": "code",
      "source": [
        "#Close current opened position with totalsize factored \n",
        "orderClose = exchange.create_order(symbol=symbol, type=\"MARKET\", side=\"sell\", amount=cryptoSize, params={\"reduceOnly\": True})\n",
        "print(orderClose)\n",
        "balance()"
      ],
      "metadata": {
        "id": "Npm9mVFRhFVC"
      },
      "execution_count": null,
      "outputs": []
    }
  ]
}